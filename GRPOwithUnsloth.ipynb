{
 "cells": [
  {
   "cell_type": "markdown",
   "metadata": {
    "id": "hpx6gCKx77_w"
   },
   "source": [
    "# GRPO with Unsloth"
   ]
  },
  {
   "cell_type": "markdown",
   "metadata": {
    "id": "N5fe82Vj7mSZ"
   },
   "source": [
    "**Fine-tune a model with GRPO** (Group Relative Policy Optimization) using **Unsloth**, to improve a model’s reasoning capabilities. We covered GRPO in Chapter 3.\n",
    "\n",
    "**Unsloth** is a library that accelerates LLM fine-tuning, making it possible to train models faster and with less computational resources. Unsloth is plugs into TRL, so we’ll build on what we learned in the previous sections, and adapt it for Unsloth specifics.\n",
    "\n",
    "> This exercise can be run on a free Google Colab T4 GPU."
   ]
  },
  {
   "cell_type": "markdown",
   "metadata": {
    "id": "Iv51ULhh8E84"
   },
   "source": [
    "## Install dependencies\n",
    "First, let’s install the necessary libraries. We’ll need Unsloth for the accelerated fine-tuning and vLLM for fast inference."
   ]
  },
  {
   "cell_type": "code",
   "execution_count": null,
   "metadata": {
    "colab": {
     "base_uri": "https://localhost:8080/"
    },
    "id": "UGSen9eg7i_F",
    "outputId": "6f30bac5-14a5-403c-8ae0-b8debcb1e2fd"
   },
   "outputs": [],
   "source": [
    "!pip install -qqq unsloth vllm\n",
    "!pip install -qqq --upgrade pillow"
   ]
  },
  {
   "cell_type": "markdown",
   "metadata": {
    "id": "a3ti5TS58ZMH"
   },
   "source": [
    "## Setting up Unsloth\n",
    "Unsloth provides a class (**FastLanguageModel**) that integrates transformers with Unsloth optimizations. Let’s import it:"
   ]
  },
  {
   "cell_type": "code",
   "execution_count": null,
   "metadata": {
    "colab": {
     "base_uri": "https://localhost:8080/"
    },
    "id": "jpVDmApx8jT3",
    "outputId": "55110c8f-d7f7-4ea6-c22e-f87c10378b0d"
   },
   "outputs": [],
   "source": [
    "from unsloth import FastLanguageModel"
   ]
  },
  {
   "cell_type": "markdown",
   "metadata": {
    "id": "CC9WAyUq8j4g"
   },
   "source": [
    "Now, let’s load Google’s Gemma 3 1B Instruct model and configure it for fine-tuning:"
   ]
  },
  {
   "cell_type": "code",
   "execution_count": null,
   "metadata": {
    "colab": {
     "base_uri": "https://localhost:8080/"
    },
    "id": "c8h7IrvU8l2J",
    "outputId": "b60bcdbd-3242-473f-adf2-cd27e47648e7"
   },
   "outputs": [],
   "source": [
    "from unsloth import FastLanguageModel\n",
    "import torch\n",
    "\n",
    "max_seq_length = 1024  # Can increase for longer reasoning traces\n",
    "lora_rank = 8  # Larger rank = smarter, but slower\n",
    "\n",
    "model, tokenizer = FastLanguageModel.from_pretrained(\n",
    "    model_name=\"google/gemma-3-1b-it\",\n",
    "    max_seq_length=max_seq_length,\n",
    "    load_in_4bit=True,  # False for LoRA 16bit\n",
    "    fast_inference=True,  # Enable vLLM fast inference\n",
    "    max_lora_rank=lora_rank,\n",
    "    gpu_memory_utilization=0.6,  # Reduce if out of memory\n",
    ")\n",
    "\n",
    "model = FastLanguageModel.get_peft_model(\n",
    "    model,\n",
    "    r=lora_rank,  # Choose any number > 0 ! Suggested 8, 16, 32, 64, 128\n",
    "    target_modules=[\n",
    "        \"q_proj\",\n",
    "        \"k_proj\",\n",
    "        \"v_proj\",\n",
    "        \"o_proj\",\n",
    "        \"gate_proj\",\n",
    "        \"up_proj\",\n",
    "        \"down_proj\",\n",
    "    ],  # Remove QKVO if out of memory\n",
    "    lora_alpha=lora_rank,\n",
    "    use_gradient_checkpointing=\"unsloth\",  # Enable long context finetuning\n",
    "    random_state=3407,\n",
    ")"
   ]
  },
  {
   "cell_type": "markdown",
   "metadata": {
    "id": "Fi5p0aV69OBX"
   },
   "source": [
    "This code loads the model in **4-bit quantization** to save memory and applies **LoRA (Low-Rank Adaptation)** for efficient fine-tuning. The **target_modules** parameter specifies which layers of the model to fine-tune, and **use_gradient_checkpointing** enables training with longer contexts."
   ]
  },
  {
   "cell_type": "markdown",
   "metadata": {
    "id": "bCxQtZyQ9wt9"
   },
   "source": [
    "## Data Preparation\n",
    "For this exercise, we’ll use the **GSM8K** dataset, which contains grade school math problems. We’ll format the data to encourage the model to show its reasoning before providing an answer.\n",
    "\n",
    "First, we will define the format of the prompts and answers:"
   ]
  },
  {
   "cell_type": "code",
   "execution_count": null,
   "metadata": {
    "id": "fa99H1HN95Io"
   },
   "outputs": [],
   "source": [
    "# Define the system prompt that instructs the model to use a specific format\n",
    "SYSTEM_PROMPT = \"\"\"\n",
    "Respond in the following format:\n",
    "<reasoning>\n",
    "...\n",
    "</reasoning>\n",
    "<answer>\n",
    "...\n",
    "</answer>\n",
    "\"\"\"\n",
    "\n",
    "XML_COT_FORMAT = \"\"\"\\\n",
    "<reasoning>\n",
    "{reasoning}\n",
    "</reasoning>\n",
    "<answer>\n",
    "{answer}\n",
    "</answer>\n",
    "\"\"\""
   ]
  },
  {
   "cell_type": "markdown",
   "metadata": {
    "id": "9RgqYUV8-B3g"
   },
   "source": [
    "Now, let’s prepare the dataset:"
   ]
  },
  {
   "cell_type": "code",
   "execution_count": null,
   "metadata": {
    "colab": {
     "base_uri": "https://localhost:8080/",
     "height": 209,
     "referenced_widgets": [
      "75d434d695b84afdaee101c4cefc6ba8",
      "df3d62500dc246538f29fb2136a36331",
      "31d282b2428146329cbfb4458b137de5",
      "52a2ba0f629b41508e4fe9d15ddab3ce",
      "fec8f0417dd34c789cf423705a538453",
      "547bbbda5198450eae93a8b21a861057",
      "9851780e8eca443d86e52be34a349237",
      "3d7cbd2b5acf4224bb7e66685776346a",
      "c678f93f9ff94db1a4c9bb377110f405",
      "ab86b7842cd545549a0114b560185d4b",
      "1959feef515645d3bc0f901038c2444c",
      "7899bb597008452dbaad7317f8420075",
      "36ee5faba93d4d4c95a1b48bfbee54d7",
      "fdd9f9625a3f4ea38a81beb06e859fde",
      "4e64edf70a8045f7bbc714201e808698",
      "cc14e347755e4e438a17d41cc5bf00dc",
      "bdbecedf5aac41d7909357cab6a90392",
      "27ced6cca0474717804f9ce5ebb9641b",
      "6bf510be16b148a4a81f1f43bf1d06e7",
      "e54d7b9a622b48ee8a2522ffde1df371",
      "d1f77a51d04b44359d1167baf7d8608d",
      "c058916d1d16400faa3b41345c48b49c",
      "1d1fd866b95446789ba0828a87942583",
      "48f32e43637f41889c2b68e31d02d0b2",
      "d9a9da3bd0c8493c8fd476c5a1e1953d",
      "626290fb8bb3481f8e58fd020cf6f2a8",
      "79541d8af14d40fdaeeb0ca4cc0de546",
      "15a2e976b4454f1d9ed8995b18bb5cdf",
      "5b40f7a1046f45e88543f8f269bbff46",
      "b5b008c999ec4eeb9d282ef232d263f8",
      "76f2ac649552414ba58e38a18dc79a34",
      "e0042afa65dd45d2b695b1996f4ae354",
      "771554125f8d4bb2903203844be4a169",
      "de174fd069694494945a0805973a302a",
      "812f6ce92fd5425a87d8bc43a30faac8",
      "1ebb28868d8c4c908a3159be74b0e636",
      "57a3701f5fcc4c2fa7b30f5380f142f5",
      "f5633ea2a3cb4edfb7ed056b3b361ae9",
      "a6f4dd81eead408b97814e793405cda4",
      "c82ebccb2e7742f3bfd862338bae0a8e",
      "e2f4541bb9a646cdaa5b038e878d9f33",
      "09d2a149902b42e084b56ab27eb8d236",
      "4df9328f59c34198b2d5140784a0d159",
      "e79abb19aa1d4a8398b4eeaf51426b03",
      "8eab2d83b07f48e2b2f70a5d4f65b4d8",
      "de58b5008a054afbb270c7a7b03e69d5",
      "c62ef29c817c4a21afc884bb96ed3146",
      "3b1b75c7bddd41c48f10dcaee5286b06",
      "a041b3bad8974f2eb54d1db2d6bfcff4",
      "c42e60a08c814ac1b90e42eec4efd5cf",
      "cad8bebfd7bc4cfdb5e11517ff7bffe3",
      "7b0ef3e687124ab7bf99c5f02b8b1269",
      "6808ba20a0754da99a68ee3c7f8ef6f4",
      "e7a9d96b348c4452b795c875c4407fb2",
      "c569b258b75f42bfa8b88ac66ef0ec98",
      "6b2e430dbbcc4027821b55496b819c88",
      "5a52931c28e54a799264e09668c75f97",
      "b775065a4c464f069ea897ed2d322aef",
      "3767f4d4802946ed8a86b762bf425c5a",
      "e720a4930660437aaef280231480dbce",
      "acc515ba40db482abef30ff7506e3148",
      "830269c4e5d04e5192f8b015c55c5d8e",
      "41942d45f2d141ec870562f6a8ea3186",
      "9c38cb06a8fc4bc3a2cca324f883f3ec",
      "bca8b446a6644c99abb6ed6570b412b9",
      "1c96f8894ea84630bad8ba85d69a3931"
     ]
    },
    "id": "4wH983-e-D-P",
    "outputId": "98c2f817-6837-4a65-d9d2-d5f007ccd635"
   },
   "outputs": [],
   "source": [
    "import re\n",
    "from datasets import load_dataset, Dataset\n",
    "\n",
    "\n",
    "# Helper functions to extract answers from different formats\n",
    "def extract_xml_answer(text: str) -> str:\n",
    "    answer = text.split(\"<answer>\")[-1]\n",
    "    answer = answer.split(\"</answer>\")[0]\n",
    "    return answer.strip()\n",
    "\n",
    "\n",
    "def extract_hash_answer(text: str) -> str | None:\n",
    "    if \"####\" not in text:\n",
    "        return None\n",
    "    return text.split(\"####\")[1].strip()\n",
    "\n",
    "\n",
    "# Function to prepare the GSM8K dataset\n",
    "def get_gsm8k_questions(split=\"train\") -> Dataset:\n",
    "    data = load_dataset(\"openai/gsm8k\", \"main\")[split]\n",
    "    data = data.map(\n",
    "        lambda x: {\n",
    "            \"prompt\": [\n",
    "                {\"role\": \"system\", \"content\": SYSTEM_PROMPT},\n",
    "                {\"role\": \"user\", \"content\": x[\"question\"]},\n",
    "            ],\n",
    "            \"answer\": extract_hash_answer(x[\"answer\"]),\n",
    "        }\n",
    "    )\n",
    "    return data\n",
    "\n",
    "\n",
    "dataset = get_gsm8k_questions()"
   ]
  },
  {
   "cell_type": "code",
   "execution_count": null,
   "metadata": {
    "colab": {
     "base_uri": "https://localhost:8080/"
    },
    "id": "8GUQv0Q0Mb_s",
    "outputId": "4da7a293-fe58-4416-ea58-1f1777185057"
   },
   "outputs": [],
   "source": [
    "dataset"
   ]
  },
  {
   "cell_type": "code",
   "execution_count": null,
   "metadata": {
    "colab": {
     "base_uri": "https://localhost:8080/"
    },
    "id": "RMX2w5GFhD08",
    "outputId": "7fc91ed7-12eb-4e9b-d282-c8efd54799d8"
   },
   "outputs": [],
   "source": [
    "dataset = dataset.select(range(700))\n",
    "dataset"
   ]
  },
  {
   "cell_type": "code",
   "execution_count": null,
   "metadata": {
    "colab": {
     "base_uri": "https://localhost:8080/"
    },
    "id": "QUuIcYqJMWYz",
    "outputId": "9c897edf-6b9b-450a-e82b-21efb3d840fb"
   },
   "outputs": [],
   "source": [
    "dataset[0]"
   ]
  },
  {
   "cell_type": "markdown",
   "metadata": {
    "id": "RmR7gn4b-o2Q"
   },
   "source": [
    "The dataset is prepared by extracting the answer from the dataset and formatting it as a string."
   ]
  },
  {
   "cell_type": "markdown",
   "metadata": {
    "id": "pQ_iMdWY-tIn"
   },
   "source": [
    "## Defining Reward Functions\n",
    "**GRPO** can use reward functions to guide the model’s learning based on verifiable criteria like length and formatting.\n",
    "\n",
    "In this exercise, we’ll define several reward functions that encourage different aspects of good reasoning. For example, we’ll reward the model for providing an integer answer, and for following the strict format."
   ]
  },
  {
   "cell_type": "code",
   "execution_count": null,
   "metadata": {
    "id": "Y96NecG3-phU"
   },
   "outputs": [],
   "source": [
    "# Reward function that checks if the answer is correct\n",
    "def correctness_reward_func(prompts, completions, answer, **kwargs) -> list[float]:\n",
    "    responses = [completion[0][\"content\"] for completion in completions]\n",
    "    q = prompts[0][-1][\"content\"]\n",
    "    extracted_responses = [extract_xml_answer(r) for r in responses]\n",
    "    print(\n",
    "        \"-\" * 20,\n",
    "        f\"Question:\\n{q}\",\n",
    "        f\"\\nAnswer:\\n{answer[0]}\",\n",
    "        f\"\\nResponse:\\n{responses[0]}\",\n",
    "        f\"\\nExtracted:\\n{extracted_responses[0]}\",\n",
    "    )\n",
    "    return [2.0 if r == a else 0.0 for r, a in zip(extracted_responses, answer)]\n",
    "\n",
    "\n",
    "# Reward function that checks if the answer is an integer\n",
    "def int_reward_func(completions, **kwargs) -> list[float]:\n",
    "    responses = [completion[0][\"content\"] for completion in completions]\n",
    "    extracted_responses = [extract_xml_answer(r) for r in responses]\n",
    "    return [0.5 if r.isdigit() else 0.0 for r in extracted_responses]\n",
    "\n",
    "\n",
    "# Reward function that checks if the completion follows the strict format\n",
    "def strict_format_reward_func(completions, **kwargs) -> list[float]:\n",
    "    pattern = r\"^<reasoning>\\n.*?\\n</reasoning>\\n<answer>\\n.*?\\n</answer>\\n$\"\n",
    "    responses = [completion[0][\"content\"] for completion in completions]\n",
    "    matches = [re.match(pattern, r) for r in responses]\n",
    "    return [0.5 if match else 0.0 for match in matches]\n",
    "\n",
    "\n",
    "# Reward function that checks if the completion follows a more relaxed format\n",
    "def soft_format_reward_func(completions, **kwargs) -> list[float]:\n",
    "    pattern = r\"<reasoning>.*?</reasoning>\\s*<answer>.*?</answer>\"\n",
    "    responses = [completion[0][\"content\"] for completion in completions]\n",
    "    matches = [re.match(pattern, r) for r in responses]\n",
    "    return [0.5 if match else 0.0 for match in matches]\n",
    "\n",
    "\n",
    "# Reward function that counts XML tags and penalizes extra content\n",
    "def count_xml(text) -> float:\n",
    "    count = 0.0\n",
    "    if text.count(\"<reasoning>\\n\") == 1:\n",
    "        count += 0.125\n",
    "    if text.count(\"\\n</reasoning>\\n\") == 1:\n",
    "        count += 0.125\n",
    "    if text.count(\"\\n<answer>\\n\") == 1:\n",
    "        count += 0.125\n",
    "        count -= len(text.split(\"\\n</answer>\\n\")[-1]) * 0.001\n",
    "    if text.count(\"\\n</answer>\") == 1:\n",
    "        count += 0.125\n",
    "        count -= (len(text.split(\"\\n</answer>\")[-1]) - 1) * 0.001\n",
    "    return count\n",
    "\n",
    "\n",
    "def xmlcount_reward_func(completions, **kwargs) -> list[float]:\n",
    "    contents = [completion[0][\"content\"] for completion in completions]\n",
    "    return [count_xml(c) for c in contents]"
   ]
  },
  {
   "cell_type": "markdown",
   "metadata": {
    "id": "D1d-Jsik_ydY"
   },
   "source": [
    "![reward.png](data:image/png;base64,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)"
   ]
  },
  {
   "cell_type": "markdown",
   "metadata": {
    "id": "7psIhI_gALlQ"
   },
   "source": [
    "## Training with GRPO\n",
    "Now we’ll set up the GRPO trainer with our model, tokenizer, and reward functions."
   ]
  },
  {
   "cell_type": "code",
   "execution_count": null,
   "metadata": {
    "colab": {
     "base_uri": "https://localhost:8080/",
     "height": 191
    },
    "id": "-juJSecvAk8o",
    "outputId": "1462e9f9-0e84-474d-d730-2506a017ad21"
   },
   "outputs": [],
   "source": [
    "import wandb\n",
    "\n",
    "wandb.login()"
   ]
  },
  {
   "cell_type": "code",
   "execution_count": null,
   "metadata": {
    "colab": {
     "base_uri": "https://localhost:8080/"
    },
    "id": "zT7W4-D5_Xc_",
    "outputId": "867bb27f-801c-404f-eb39-cd553e89feda"
   },
   "outputs": [],
   "source": [
    "from trl import GRPOConfig, GRPOTrainer\n",
    "\n",
    "max_prompt_length = 256\n",
    "\n",
    "training_args = GRPOConfig(\n",
    "    output_dir=\"GRPO_Unsloth\",\n",
    "    learning_rate=5e-6,\n",
    "    adam_beta1=0.9,\n",
    "    adam_beta2=0.99,\n",
    "    weight_decay=0.1,\n",
    "    warmup_ratio=0.1,\n",
    "    lr_scheduler_type=\"cosine\",\n",
    "    optim=\"paged_adamw_8bit\",\n",
    "    logging_steps=1,\n",
    "    per_device_train_batch_size=1,\n",
    "    gradient_accumulation_steps=1,  # Increase to 4 for smoother training\n",
    "    num_generations=6,  # Decrease if out of memory\n",
    "    max_prompt_length=max_prompt_length,\n",
    "    max_completion_length=max_seq_length - max_prompt_length,\n",
    "    num_train_epochs = 1, # Set to 1 for a full training run\n",
    "    max_steps=250,\n",
    "    save_steps=250,\n",
    "    max_grad_norm=0.1,\n",
    "    # report_to=\"none\",  # Can use Weights & Biases\n",
    "    report_to=[\"wandb\"],\n",
    ")\n",
    "\n",
    "trainer = GRPOTrainer(\n",
    "    model=model,\n",
    "    processing_class=tokenizer,\n",
    "    reward_funcs=[\n",
    "        xmlcount_reward_func,\n",
    "        soft_format_reward_func,\n",
    "        strict_format_reward_func,\n",
    "        int_reward_func,\n",
    "        correctness_reward_func,\n",
    "    ],\n",
    "    args=training_args,\n",
    "    train_dataset=dataset,\n",
    ")"
   ]
  },
  {
   "cell_type": "markdown",
   "metadata": {
    "id": "mm0Xwi1B1bmk"
   },
   "source": [
    "The GRPOConfig sets various hyperparameters for training:\n",
    "\n",
    "* **use_vllm**: Enables fast inference with vLLM\n",
    "* **learning_rate**: Controls how quickly the model learns\n",
    "* **num_generations**: Number of completions to generate for each prompt\n",
    "* **max_steps**: Total number of training steps to perform\n",
    "Now let’s start the training:"
   ]
  },
  {
   "cell_type": "code",
   "execution_count": null,
   "metadata": {
    "colab": {
     "base_uri": "https://localhost:8080/",
     "height": 1000
    },
    "id": "TwVz18Rq2Gvj",
    "outputId": "21e644f7-39b7-46ea-99d9-a591b206fc8b"
   },
   "outputs": [],
   "source": [
    "wandb.init(project=\"GRPO_Unsloth\")\n",
    "trainer.train()"
   ]
  },
  {
   "cell_type": "markdown",
   "metadata": {
    "id": "SPUp8VH-2IoS"
   },
   "source": [
    "Training may take some time. You might not see rewards increase immediately - it can take 150-200 steps before you start seeing improvements. Be patient!"
   ]
  },
  {
   "cell_type": "markdown",
   "metadata": {
    "id": "fiDEoqxa2L8r"
   },
   "source": [
    "## Testing the Model\n",
    "After training, let’s test our model to see how it performs. First, we’ll save the LoRA weights:"
   ]
  },
  {
   "cell_type": "code",
   "execution_count": null,
   "metadata": {
    "id": "88Fx5doT2K6D"
   },
   "outputs": [],
   "source": [
    "model.save_lora(\"grpo_saved_lora\")"
   ]
  },
  {
   "cell_type": "markdown",
   "metadata": {
    "id": "bgU4bRI32Rlj"
   },
   "source": [
    "Now, let’s test the model with a new question:"
   ]
  },
  {
   "cell_type": "code",
   "execution_count": null,
   "metadata": {
    "id": "yFZeJmik2Sgz"
   },
   "outputs": [],
   "source": [
    "from vllm import SamplingParams\n",
    "\n",
    "text = tokenizer.apply_chat_template(\n",
    "    [\n",
    "        {\"role\": \"system\", \"content\": SYSTEM_PROMPT},\n",
    "        {\"role\": \"user\", \"content\": \"Calculate pi.\"},\n",
    "    ],\n",
    "    tokenize=False,\n",
    "    add_generation_prompt=True,\n",
    ")\n",
    "\n",
    "sampling_params = SamplingParams(\n",
    "    temperature=0.8,\n",
    "    top_p=0.95,\n",
    "    max_tokens=1024,\n",
    ")\n",
    "output = (\n",
    "    model.fast_generate(\n",
    "        text,\n",
    "        sampling_params=sampling_params,\n",
    "        lora_request=model.load_lora(\"grpo_saved_lora\"),\n",
    "    )[0]\n",
    "    .outputs[0]\n",
    "    .text\n",
    ")\n",
    "\n",
    "print(output)"
   ]
  },
  {
   "cell_type": "markdown",
   "metadata": {
    "id": "o7teWm8J2X1y"
   },
   "source": [
    "You should see that the model now follows the specified format, showing its reasoning before providing an answer."
   ]
  },
  {
   "cell_type": "markdown",
   "metadata": {
    "id": "1Rf5SVZM2a18"
   },
   "source": [
    "## Saving the Model\n",
    "Unsloth provides several options for saving your fine-tuned model, but we’ll focus on the most common."
   ]
  },
  {
   "cell_type": "code",
   "execution_count": null,
   "metadata": {
    "id": "b3EpUyz92Ypk"
   },
   "outputs": [],
   "source": [
    "# Save to 16-bit precision\n",
    "model.save_pretrained_merged(\"model\", tokenizer, save_method=\"merged_16bit\")"
   ]
  },
  {
   "cell_type": "markdown",
   "metadata": {
    "id": "ZEk5jnoB2sgj"
   },
   "source": [
    "## Pushing to Hugging Face Hub\n",
    "We’ll push the model to the Hugging Face Hub using the push_to_hub_merged method. This method allows us to push the model in multiple quantization formats."
   ]
  },
  {
   "cell_type": "code",
   "execution_count": null,
   "metadata": {
    "id": "Ab0FcuRr2qxj"
   },
   "outputs": [],
   "source": [
    "# Push to Hugging Face Hub (requires a token)\n",
    "model.push_to_hub_merged(\n",
    "    \"your-username/model-name\", tokenizer, save_method=\"merged_16bit\", token=\"your_token\"\n",
    ")\n",
    "# Push tokenizer explicitly\n",
    "tokenizer.push_to_hub(\n",
    "    \"your-username/model-name\",\n",
    "    token=\"your_token\"\n",
    ")"
   ]
  },
  {
   "cell_type": "markdown",
   "metadata": {
    "id": "FaY7rY_B24xi"
   },
   "source": [
    "Unsloth also supports saving to GGUF format for use with llama.cpp:"
   ]
  },
  {
   "cell_type": "code",
   "execution_count": null,
   "metadata": {
    "id": "s413BpW_27Cb"
   },
   "outputs": [],
   "source": [
    "model.push_to_hub_gguf(\n",
    "    \"your-username/model-name\",\n",
    "    tokenizer,\n",
    "    quantization_method=[\"q4_k_m\", \"q8_0\", \"q5_k_m\"],\n",
    "    token=\"your_token\",\n",
    ")"
   ]
  },
  {
   "cell_type": "markdown",
   "metadata": {
    "id": "FjgKeB6S286D"
   },
   "source": [
    "The GGUF files can be used with llama.cpp or UI-based systems like Jan or Open WebUI."
   ]
  },
  {
   "cell_type": "markdown",
   "metadata": {
    "id": "yU7Gy19L3JME"
   },
   "source": [
    "## Conclusion\n",
    "In this exercise, you’ve learned how to:\n",
    "\n",
    "* Set up Unsloth for accelerated fine-tuning\n",
    "* Prepare data for GRPO training\n",
    "* Define custom reward functions to guide the model’s learning\n",
    "* Train a model using GRPO\n",
    "* Test the fine-tuned model\n",
    "* Save the model in various formats  \n",
    "GRPO is a powerful technique for aligning language models with specific behaviors, and Unsloth makes it accessible even on limited hardware. By combining multiple reward functions, you can guide the model to follow a specific format while also improving its reasoning capabilities."
   ]
  },
  {
   "cell_type": "code",
   "execution_count": null,
   "metadata": {
    "id": "MEHAGxsV29fM"
   },
   "outputs": [],
   "source": []
  }
 ],
 "metadata": {
  "accelerator": "GPU",
  "colab": {
   "gpuType": "T4",
   "provenance": []
  },
  "kernelspec": {
   "display_name": "Python 3",
   "name": "python3"
  },
  "language_info": {
   "name": "python"
  }
 },
 "nbformat": 4,
 "nbformat_minor": 0
}
